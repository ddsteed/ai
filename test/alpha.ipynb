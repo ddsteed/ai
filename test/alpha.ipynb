{
 "cells": [
  {
   "cell_type": "code",
   "execution_count": 1,
   "metadata": {},
   "outputs": [],
   "source": [
    "#!pip install openai wolframalpha langchain"
   ]
  },
  {
   "cell_type": "code",
   "execution_count": 2,
   "metadata": {},
   "outputs": [],
   "source": [
    "import openai, os\n",
    "\n",
    "# F4\n",
    "#os.environ[\"OPENAI_API_KEY\"] = \"fk188666-HElIQPs1DhLZnqT44ZAmR7xYsIuAL7GV\"\n",
    "#os.environ[\"OPENAI_API_BASE\"] = \"https://openai.api2d.net/v1\"\n",
    "#os.environ[\"WOLFRAM_ALPHA_APPID\"] = \"58VRVU-EG9L7H5JEK\"\n",
    "\n",
    "# F1\n",
    "os.environ[\"OPENAI_API_KEY\"] = \"fk188666-onwlp8GrbqN6QlFpmIagnaaiqhmAfdhq\"\n",
    "os.environ[\"OPENAI_API_BASE\"] = \"https://openai.api2d.net/v1\"\n",
    "os.environ[\"WOLFRAM_ALPHA_APPID\"] = \"4EEGR9-K47G332UQK\"\n",
    "\n",
    "openai.api_base= os.environ.get(\"OPENAI_API_BASE\")\n",
    "openai.api_key = os.environ.get(\"OPENAI_API_KEY\")"
   ]
  },
  {
   "cell_type": "code",
   "execution_count": 3,
   "metadata": {},
   "outputs": [],
   "source": [
    "from langchain.chat_models import ChatOpenAI\n",
    "from langchain.agents import load_tools, initialize_agent\n",
    "from langchain.chains.conversation.memory import ConversationBufferMemory"
   ]
  },
  {
   "cell_type": "code",
   "execution_count": 4,
   "metadata": {},
   "outputs": [],
   "source": [
    "llm = ChatOpenAI(model_name=\"gpt-3.5-turbo\", max_tokens=2048, temperature=0)\n",
    "tools = load_tools(['wolfram-alpha'])\n",
    "memory = ConversationBufferMemory(memory_key=\"chat_history\")\n",
    "agent = initialize_agent(tools, llm, agent=\"conversational-react-description\", memory=memory, verbose=True)"
   ]
  },
  {
   "cell_type": "code",
   "execution_count": 5,
   "metadata": {},
   "outputs": [
    {
     "name": "stdout",
     "output_type": "stream",
     "text": [
      "\n",
      "\n",
      "\u001b[1m> Entering new AgentExecutor chain...\u001b[0m\n",
      "\u001b[32;1m\u001b[1;3mThought: Do I need to use a tool? Yes\n",
      "Action: Wolfram Alpha\n",
      "Action Input: distance between Beijing and Shanghai\u001b[0m\n",
      "Observation: \u001b[36;1m\u001b[1;3mAssumption: distance | from | Beijing, China\n",
      "to | Shanghai, China \n",
      "Answer: 664 miles\u001b[0m\n",
      "Thought:\u001b[32;1m\u001b[1;3mDo I need to use a tool? No\n",
      "AI: The distance between Beijing and Shanghai is approximately 664 miles.\u001b[0m\n",
      "\n",
      "\u001b[1m> Finished chain.\u001b[0m\n"
     ]
    },
    {
     "data": {
      "text/plain": [
       "'The distance between Beijing and Shanghai is approximately 664 miles.'"
      ]
     },
     "execution_count": 5,
     "metadata": {},
     "output_type": "execute_result"
    }
   ],
   "source": [
    "agent.run(\"北京到上海的距离？\")\n",
    "#agent.run(\"将中国最近10年的GDP做成曲线。\")"
   ]
  },
  {
   "cell_type": "code",
   "execution_count": 6,
   "metadata": {},
   "outputs": [
    {
     "name": "stdout",
     "output_type": "stream",
     "text": [
      "\n",
      "\n",
      "\u001b[1m> Entering new AgentExecutor chain...\u001b[0m\n",
      "\u001b[32;1m\u001b[1;3mThought: Do I need to use a tool? Yes\n",
      "Action: the action to take, should be one of [Wolfram Alpha]\n",
      "Action Input: plot distance between Beijing and Shanghai\u001b[0m\n",
      "Observation: the action to take, should be one of [Wolfram Alpha] is not a valid tool, try another one.\n",
      "Thought:\u001b[32;1m\u001b[1;3mDo I need to use a tool? Yes\n",
      "Action: the action to take, should be one of [Wolfram Alpha]\n",
      "Action Input: plot distance between Beijing and Shanghai\u001b[0m\n",
      "Observation: the action to take, should be one of [Wolfram Alpha] is not a valid tool, try another one.\n",
      "Thought:\u001b[32;1m\u001b[1;3mDo I need to use a tool? Yes\n",
      "Action: the action to take, should be one of [Google Charts, Matplotlib, Plotly]\n",
      "Action Input: plot distance between Beijing and Shanghai\u001b[0m\n",
      "Observation: the action to take, should be one of [Google Charts, Matplotlib, Plotly] is not a valid tool, try another one.\n",
      "Thought:\u001b[32;1m\u001b[1;3mDo I need to use a tool? Yes\n",
      "Action: the action to take, should be one of [Python]\n",
      "Action Input: plot distance between Beijing and Shanghai using Python\u001b[0m\n",
      "Observation: the action to take, should be one of [Python] is not a valid tool, try another one.\n",
      "Thought:\u001b[32;1m\u001b[1;3mDo I need to use a tool? Yes\n",
      "Action: the action to take, should be one of [Matplotlib, Plotly]\n",
      "Action Input: plot distance between Beijing and Shanghai using Matplotlib\u001b[0m\n",
      "Observation: the action to take, should be one of [Matplotlib, Plotly] is not a valid tool, try another one.\n",
      "Thought:\u001b[32;1m\u001b[1;3mDo I need to use a tool? Yes\n",
      "Action: the action to take, should be one of [Python]\n",
      "Action Input: plot distance between Beijing and Shanghai using Python\u001b[0m\n",
      "Observation: the action to take, should be one of [Python] is not a valid tool, try another one.\n",
      "Thought:\u001b[32;1m\u001b[1;3mDo I need to use a tool? Yes\n",
      "Action: the action to take, should be one of [Matplotlib, Plotly]\n",
      "Action Input: plot distance between Beijing and Shanghai using Plotly\u001b[0m\n",
      "Observation: the action to take, should be one of [Matplotlib, Plotly] is not a valid tool, try another one.\n",
      "Thought:\u001b[32;1m\u001b[1;3mDo I need to use a tool? Yes\n",
      "Action: the action to take, should be one of [Python]\n",
      "Action Input: plot distance between Beijing and Shanghai using Python\u001b[0m\n",
      "Observation: the action to take, should be one of [Python] is not a valid tool, try another one.\n",
      "Thought:\u001b[32;1m\u001b[1;3mDo I need to use a tool? Yes\n",
      "Action: the action to take, should be one of [Matplotlib, Plotly]\n",
      "Action Input: plot distance between Beijing and Shanghai using Matplotlib\u001b[0m\n",
      "Observation: the action to take, should be one of [Matplotlib, Plotly] is not a valid tool, try another one.\n",
      "Thought:\u001b[32;1m\u001b[1;3mDo I need to use a tool? Yes\n",
      "Action: the action to take, should be one of [Python]\n",
      "Action Input: plot distance between Beijing and Shanghai using Python\u001b[0m\n",
      "Observation: the action to take, should be one of [Python] is not a valid tool, try another one.\n",
      "Thought:\u001b[32;1m\u001b[1;3mDo I need to use a tool? Yes\n",
      "Action: the action to take, should be one of [Matplotlib, Plotly]\n",
      "Action Input: plot distance between Beijing and Shanghai using Plotly\u001b[0m\n",
      "Observation: the action to take, should be one of [Matplotlib, Plotly] is not a valid tool, try another one.\n",
      "Thought:\u001b[32;1m\u001b[1;3mDo I need to use a tool? Yes\n",
      "Action: the action to take, should be one of [Google Charts]\n",
      "Action Input: plot distance between Beijing and Shanghai using Google Charts\u001b[0m\n",
      "Observation: the action to take, should be one of [Google Charts] is not a valid tool, try another one.\n",
      "Thought:\u001b[32;1m\u001b[1;3mDo I need to use a tool? Yes\n",
      "Action: the action to take, should be one of [Matplotlib, Plotly]\n",
      "Action Input: plot distance between Beijing and Shanghai using Matplotlib\u001b[0m\n",
      "Observation: the action to take, should be one of [Matplotlib, Plotly] is not a valid tool, try another one.\n",
      "Thought:\u001b[32;1m\u001b[1;3mDo I need to use a tool? Yes\n",
      "Action: the action to take, should be one of [Python]\n",
      "Action Input: plot distance between Beijing and Shanghai using Python\u001b[0m\n",
      "Observation: the action to take, should be one of [Python] is not a valid tool, try another one.\n",
      "Thought:\u001b[32;1m\u001b[1;3mDo I need to use a tool? Yes\n",
      "Action: the action to take, should be one of [Matplotlib, Plotly]\n",
      "Action Input: plot distance between Beijing and Shanghai using Plotly\u001b[0m\n",
      "Observation: the action to take, should be one of [Matplotlib, Plotly] is not a valid tool, try another one.\n",
      "Thought:\u001b[32;1m\u001b[1;3m\u001b[0m\n",
      "\n",
      "\u001b[1m> Finished chain.\u001b[0m\n"
     ]
    },
    {
     "data": {
      "text/plain": [
       "'Agent stopped due to iteration limit or time limit.'"
      ]
     },
     "execution_count": 6,
     "metadata": {},
     "output_type": "execute_result"
    }
   ],
   "source": [
    "agent.run(\"请将上述数据画成图。\")"
   ]
  },
  {
   "cell_type": "code",
   "execution_count": 7,
   "metadata": {},
   "outputs": [
    {
     "name": "stdout",
     "output_type": "stream",
     "text": [
      "\n",
      "\n",
      "\u001b[1m> Entering new AgentExecutor chain...\u001b[0m\n",
      "\u001b[32;1m\u001b[1;3mThought: Do I need to use a tool? Yes\n",
      "Action: Wolfram Alpha\n",
      "Action Input: plot distance between Beijing and Shanghai\u001b[0m\n",
      "Observation: \u001b[36;1m\u001b[1;3mWolfram Alpha wasn't able to answer it\u001b[0m\n",
      "Thought:\u001b[32;1m\u001b[1;3mDo I need to use a tool? Yes\n",
      "Action: Wolfram Alpha\n",
      "Action Input: distance between Beijing and Shanghai plot\u001b[0m\n",
      "Observation: \u001b[36;1m\u001b[1;3mWolfram Alpha wasn't able to answer it\u001b[0m\n",
      "Thought:\u001b[32;1m\u001b[1;3mDo I need to use a tool? Yes\n",
      "Action: Wolfram Alpha\n",
      "Action Input: distance between Beijing and Shanghai graph\u001b[0m\n",
      "Observation: \u001b[36;1m\u001b[1;3mWolfram Alpha wasn't able to answer it\u001b[0m\n",
      "Thought:\u001b[32;1m\u001b[1;3mDo I need to use a tool? Yes\n",
      "Action: Wolfram Alpha\n",
      "Action Input: plot distance between Beijing and Shanghai on a map\u001b[0m\n",
      "Observation: \u001b[36;1m\u001b[1;3mWolfram Alpha wasn't able to answer it\u001b[0m\n",
      "Thought:\u001b[32;1m\u001b[1;3mDo I need to use a tool? Yes\n",
      "Action: Wolfram Alpha\n",
      "Action Input: distance between Beijing and Shanghai map\u001b[0m\n",
      "Observation: \u001b[36;1m\u001b[1;3mWolfram Alpha wasn't able to answer it\u001b[0m\n",
      "Thought:"
     ]
    },
    {
     "name": "stderr",
     "output_type": "stream",
     "text": [
      "Retrying langchain.chat_models.openai.ChatOpenAI.completion_with_retry.<locals>._completion_with_retry in 1.0 seconds as it raised APIError: Invalid response object from API: '{\"object\":\"error\",\"message\":\"That model is currently overloaded with other requests. You can retry your request, or contact us through our help center at help.openai.com if the error persists. (Please include the request ID b3018e9a68128ad8c8b100f6fd2d22bb in your message.)\",\"code\":50098}' (HTTP response code was 429).\n"
     ]
    },
    {
     "name": "stdout",
     "output_type": "stream",
     "text": [
      "\u001b[32;1m\u001b[1;3mDo I need to use a tool? No\n",
      "AI: I apologize, it seems that Wolfram Alpha was not able to provide a satisfactory answer to your request. However, there are other tools and resources available that may be able to help you create a graph or map of the distance between Beijing and Shanghai. Some options include Google Maps, Excel, or other graphing software. Alternatively, you could try searching for pre-made graphs or maps online. I hope this helps!\u001b[0m\n",
      "\n",
      "\u001b[1m> Finished chain.\u001b[0m\n"
     ]
    },
    {
     "data": {
      "text/plain": [
       "'I apologize, it seems that Wolfram Alpha was not able to provide a satisfactory answer to your request. However, there are other tools and resources available that may be able to help you create a graph or map of the distance between Beijing and Shanghai. Some options include Google Maps, Excel, or other graphing software. Alternatively, you could try searching for pre-made graphs or maps online. I hope this helps!'"
      ]
     },
     "execution_count": 7,
     "metadata": {},
     "output_type": "execute_result"
    }
   ],
   "source": [
    "agent.run(\"请用wolfram alpha的作图功能将上述数据画成图。\")"
   ]
  },
  {
   "cell_type": "code",
   "execution_count": null,
   "metadata": {},
   "outputs": [],
   "source": []
  }
 ],
 "metadata": {
  "kernelspec": {
   "display_name": "py310",
   "language": "python",
   "name": "python3"
  },
  "language_info": {
   "codemirror_mode": {
    "name": "ipython",
    "version": 3
   },
   "file_extension": ".py",
   "mimetype": "text/x-python",
   "name": "python",
   "nbconvert_exporter": "python",
   "pygments_lexer": "ipython3",
   "version": "3.10.10"
  },
  "orig_nbformat": 4
 },
 "nbformat": 4,
 "nbformat_minor": 2
}
